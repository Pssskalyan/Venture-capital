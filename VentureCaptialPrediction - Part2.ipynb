{
 "cells": [
  {
   "cell_type": "code",
   "execution_count": 1,
   "metadata": {},
   "outputs": [],
   "source": [
    "import pandas as pd"
   ]
  },
  {
   "cell_type": "code",
   "execution_count": 2,
   "metadata": {},
   "outputs": [],
   "source": [
    "import numpy as np"
   ]
  },
  {
   "cell_type": "code",
   "execution_count": 3,
   "metadata": {},
   "outputs": [],
   "source": [
    "import seaborn as sns"
   ]
  },
  {
   "cell_type": "code",
   "execution_count": 4,
   "metadata": {},
   "outputs": [],
   "source": [
    "import matplotlib.pyplot as plt"
   ]
  },
  {
   "cell_type": "code",
   "execution_count": 5,
   "metadata": {},
   "outputs": [],
   "source": [
    "%matplotlib inline"
   ]
  },
  {
   "cell_type": "code",
   "execution_count": 6,
   "metadata": {},
   "outputs": [],
   "source": [
    "from pylab import rcParams"
   ]
  },
  {
   "cell_type": "code",
   "execution_count": 7,
   "metadata": {},
   "outputs": [],
   "source": [
    "rcParams['figure.figsize'] = 25, 10"
   ]
  },
  {
   "cell_type": "code",
   "execution_count": 8,
   "metadata": {},
   "outputs": [],
   "source": [
    "from datetime import datetime"
   ]
  },
  {
   "cell_type": "code",
   "execution_count": 9,
   "metadata": {},
   "outputs": [],
   "source": [
    "from pandas.plotting import scatter_matrix"
   ]
  },
  {
   "cell_type": "code",
   "execution_count": 10,
   "metadata": {},
   "outputs": [],
   "source": [
    "from sklearn.preprocessing import normalize"
   ]
  },
  {
   "cell_type": "code",
   "execution_count": 11,
   "metadata": {
    "_uuid": "1abaa0997c3c575a0ba45c938f501df02aa470b9"
   },
   "outputs": [],
   "source": [
    "from sklearn.model_selection import GridSearchCV"
   ]
  },
  {
   "cell_type": "code",
   "execution_count": 12,
   "metadata": {},
   "outputs": [],
   "source": [
    "df = pd.read_csv(\"startup_funding.csv\")"
   ]
  },
  {
   "cell_type": "code",
   "execution_count": 13,
   "metadata": {},
   "outputs": [],
   "source": [
    "df = df.drop(['SNo','Remarks','SubVertical'],axis = 1)"
   ]
  },
  {
   "cell_type": "code",
   "execution_count": 14,
   "metadata": {},
   "outputs": [],
   "source": [
    "df = df.dropna()"
   ]
  },
  {
   "cell_type": "code",
   "execution_count": 15,
   "metadata": {
    "_uuid": "83f0dbce2de0851703c12727960ec374c672ebf2"
   },
   "outputs": [],
   "source": [
    "df = df.reset_index(drop=True)\n"
   ]
  },
  {
   "cell_type": "code",
   "execution_count": 16,
   "metadata": {
    "_uuid": "e7b5432fca633b3ca9f8eb07b13480f5448b72fd"
   },
   "outputs": [
    {
     "data": {
      "text/html": [
       "<div>\n",
       "<style scoped>\n",
       "    .dataframe tbody tr th:only-of-type {\n",
       "        vertical-align: middle;\n",
       "    }\n",
       "\n",
       "    .dataframe tbody tr th {\n",
       "        vertical-align: top;\n",
       "    }\n",
       "\n",
       "    .dataframe thead th {\n",
       "        text-align: right;\n",
       "    }\n",
       "</style>\n",
       "<table border=\"1\" class=\"dataframe\">\n",
       "  <thead>\n",
       "    <tr style=\"text-align: right;\">\n",
       "      <th></th>\n",
       "      <th>Date</th>\n",
       "      <th>StartupName</th>\n",
       "      <th>IndustryVertical</th>\n",
       "      <th>CityLocation</th>\n",
       "      <th>InvestorsName</th>\n",
       "      <th>InvestmentType</th>\n",
       "      <th>AmountInUSD</th>\n",
       "    </tr>\n",
       "  </thead>\n",
       "  <tbody>\n",
       "    <tr>\n",
       "      <th>0</th>\n",
       "      <td>2017-08-01</td>\n",
       "      <td>TouchKin</td>\n",
       "      <td>Technology</td>\n",
       "      <td>Bangalore</td>\n",
       "      <td>Kae Capital</td>\n",
       "      <td>Private Equity</td>\n",
       "      <td>1,300,000</td>\n",
       "    </tr>\n",
       "    <tr>\n",
       "      <th>1</th>\n",
       "      <td>2017-08-02</td>\n",
       "      <td>Zepo</td>\n",
       "      <td>Consumer Internet</td>\n",
       "      <td>Mumbai</td>\n",
       "      <td>Kunal Shah, LetsVenture, Anupam Mittal, Hetal ...</td>\n",
       "      <td>Seed Funding</td>\n",
       "      <td>500,000</td>\n",
       "    </tr>\n",
       "    <tr>\n",
       "      <th>2</th>\n",
       "      <td>2017-08-02</td>\n",
       "      <td>Click2Clinic</td>\n",
       "      <td>Consumer Internet</td>\n",
       "      <td>Hyderabad</td>\n",
       "      <td>Narottam Thudi, Shireesh Palle</td>\n",
       "      <td>Seed Funding</td>\n",
       "      <td>850,000</td>\n",
       "    </tr>\n",
       "    <tr>\n",
       "      <th>3</th>\n",
       "      <td>2017-07-01</td>\n",
       "      <td>Billion Loans</td>\n",
       "      <td>Consumer Internet</td>\n",
       "      <td>Bangalore</td>\n",
       "      <td>Reliance Corporate Advisory Services Ltd</td>\n",
       "      <td>Seed Funding</td>\n",
       "      <td>1,000,000</td>\n",
       "    </tr>\n",
       "    <tr>\n",
       "      <th>4</th>\n",
       "      <td>2017-07-03</td>\n",
       "      <td>Ecolibriumenergy</td>\n",
       "      <td>Technology</td>\n",
       "      <td>Ahmedabad</td>\n",
       "      <td>Infuse Ventures, JLL</td>\n",
       "      <td>Private Equity</td>\n",
       "      <td>2,600,000</td>\n",
       "    </tr>\n",
       "  </tbody>\n",
       "</table>\n",
       "</div>"
      ],
      "text/plain": [
       "         Date       StartupName   IndustryVertical CityLocation  \\\n",
       "0  2017-08-01          TouchKin         Technology    Bangalore   \n",
       "1  2017-08-02              Zepo  Consumer Internet       Mumbai   \n",
       "2  2017-08-02      Click2Clinic  Consumer Internet    Hyderabad   \n",
       "3  2017-07-01     Billion Loans  Consumer Internet    Bangalore   \n",
       "4  2017-07-03  Ecolibriumenergy         Technology    Ahmedabad   \n",
       "\n",
       "                                       InvestorsName  InvestmentType  \\\n",
       "0                                        Kae Capital  Private Equity   \n",
       "1  Kunal Shah, LetsVenture, Anupam Mittal, Hetal ...    Seed Funding   \n",
       "2                     Narottam Thudi, Shireesh Palle    Seed Funding   \n",
       "3           Reliance Corporate Advisory Services Ltd    Seed Funding   \n",
       "4                               Infuse Ventures, JLL  Private Equity   \n",
       "\n",
       "  AmountInUSD  \n",
       "0   1,300,000  \n",
       "1     500,000  \n",
       "2     850,000  \n",
       "3   1,000,000  \n",
       "4   2,600,000  "
      ]
     },
     "execution_count": 16,
     "metadata": {},
     "output_type": "execute_result"
    }
   ],
   "source": [
    "\n",
    "for dt in range(0, len(df['Date'])):\n",
    "    try:\n",
    "        df['Date'][dt] = datetime.strptime(df['Date'][dt], '%d/%m/%Y').date()\n",
    "       \n",
    "    except:\n",
    "        if dt > 0:\n",
    "            df['Date'][dt] = df['Date'][dt-1]\n",
    "        else:\n",
    "            df['Date'][dt] = df['Date'][dt+1]\n",
    "df.head()\n",
    "\n"
   ]
  },
  {
   "cell_type": "code",
   "execution_count": 17,
   "metadata": {
    "_uuid": "fa2f8725a6b6d1423ebd8187e898c924bef05950"
   },
   "outputs": [],
   "source": [
    "df[\"month\"] = [str(dt.month) for dt in df.Date]"
   ]
  },
  {
   "cell_type": "code",
   "execution_count": 18,
   "metadata": {},
   "outputs": [],
   "source": [
    "for i in range(0,len(df.AmountInUSD)):\n",
    "    df.AmountInUSD[i] = int(df.AmountInUSD[i].replace(\",\",\"\"))"
   ]
  },
  {
   "cell_type": "code",
   "execution_count": 19,
   "metadata": {
    "_uuid": "c8f2517155cd717a609fe371a14cbdceef73d863"
   },
   "outputs": [],
   "source": [
    "df['Amount_USD'] = list(map(int,df.AmountInUSD))"
   ]
  },
  {
   "cell_type": "code",
   "execution_count": 20,
   "metadata": {
    "_uuid": "8feff44655ede906746c42f5761564b61121048f"
   },
   "outputs": [
    {
     "name": "stdout",
     "output_type": "stream",
     "text": [
      "<class 'pandas.core.frame.DataFrame'>\n",
      "RangeIndex: 1385 entries, 0 to 1384\n",
      "Data columns (total 8 columns):\n",
      "Date                1385 non-null object\n",
      "StartupName         1385 non-null object\n",
      "IndustryVertical    1385 non-null object\n",
      "CityLocation        1385 non-null object\n",
      "InvestorsName       1385 non-null object\n",
      "InvestmentType      1385 non-null object\n",
      "month               1385 non-null object\n",
      "Amount_USD          1385 non-null int64\n",
      "dtypes: int64(1), object(7)\n",
      "memory usage: 86.6+ KB\n"
     ]
    }
   ],
   "source": [
    "df = df.drop('AmountInUSD',axis = 1)\n",
    "df.info()"
   ]
  },
  {
   "cell_type": "code",
   "execution_count": 21,
   "metadata": {
    "_uuid": "93e9a27924a343590e27d506330a0cc1349e9604"
   },
   "outputs": [
    {
     "data": {
      "text/plain": [
       "Consumer Internet       459\n",
       "Technology              189\n",
       "eCommerce               113\n",
       "ECommerce                32\n",
       "Logistics                16\n",
       "Education                15\n",
       "Healthcare               14\n",
       "Food & Beverage          12\n",
       "Finance                   7\n",
       "Online Food Delivery      5\n",
       "Name: IndustryVertical, dtype: int64"
      ]
     },
     "execution_count": 21,
     "metadata": {},
     "output_type": "execute_result"
    }
   ],
   "source": [
    "count = df['IndustryVertical'].value_counts()\n",
    "count.head(10)\n"
   ]
  },
  {
   "cell_type": "code",
   "execution_count": 22,
   "metadata": {
    "_uuid": "dba134bcd9a5c598c70593e69d237645f5ec2204"
   },
   "outputs": [
    {
     "data": {
      "image/png": "[encoded data removed]",
      "text/plain": [
       "<Figure size 864x432 with 1 Axes>"
      ]
     },
     "metadata": {
      "needs_background": "light"
     },
     "output_type": "display_data"
    }
   ],
   "source": [
    "count = df['InvestmentType'].value_counts()\n",
    "plt.figure(figsize=(12,6))\n",
    "sns.barplot(count.index, count.values, alpha=0.8)\n",
    "plt.xticks(rotation='vertical')\n",
    "plt.xlabel('Investment Type', fontsize=12)\n",
    "plt.ylabel('Number of fundings made', fontsize=12)\n",
    "plt.title(\"Type of Investment made\", fontsize=16)\n",
    "plt.show()"
   ]
  },
  {
   "cell_type": "code",
   "execution_count": 23,
   "metadata": {
    "_uuid": "8ff7fa699e7149fdc1a6aa13d4bc558ac8b8d090"
   },
   "outputs": [
    {
     "data": {
      "image/png": "[encoded data removed]",
      "text/plain": [
       "<Figure size 864x432 with 1 Axes>"
      ]
     },
     "metadata": {
      "needs_background": "light"
     },
     "output_type": "display_data"
    }
   ],
   "source": [
    "count = df['month'].value_counts()\n",
    "plt.figure(figsize=(12,6))\n",
    "sns.barplot(count.index, count.values, alpha=0.8)\n",
    "plt.xticks(rotation='vertical')\n",
    "plt.xlabel('Month Wise Investment', fontsize=12)\n",
    "plt.ylabel('Number of fundings made', fontsize=12)\n",
    "plt.title(\"Type of Investment made\", fontsize=16)\n",
    "plt.show()"
   ]
  },
  {
   "cell_type": "code",
   "execution_count": 24,
   "metadata": {
    "_uuid": "2969134afc317d8f6538c975886ac6de7a67bd45"
   },
   "outputs": [
    {
     "name": "stdout",
     "output_type": "stream",
     "text": [
      "   month  Amount_USD\n",
      "0      1   953113500\n",
      "1     10   492409000\n",
      "2     11  1156952000\n",
      "3     12   493096000\n",
      "4      2   626449500\n",
      "5      3  2573842608\n",
      "6      4  1966335000\n",
      "7      5  2448444000\n",
      "8      6  1065717000\n",
      "9      7  1982908000\n",
      "10     8  1600555000\n",
      "11     9  1710881000\n"
     ]
    },
    {
     "data": {
      "text/plain": [
       "(array([ 0,  1,  2,  3,  4,  5,  6,  7,  8,  9, 10, 11]),\n",
       " <a list of 12 Text xticklabel objects>)"
      ]
     },
     "execution_count": 24,
     "metadata": {},
     "output_type": "execute_result"
    },
    {
     "data": {
      "image/png": "[encoded data removed]",
      "text/plain": [
       "<Figure size 1800x720 with 1 Axes>"
      ]
     },
     "metadata": {
      "needs_background": "light"
     },
     "output_type": "display_data"
    }
   ],
   "source": [
    "\n",
    "month_mean = df.groupby(['month']).sum().groupby(level=0).mean().reset_index()\n",
    "print(month_mean)\n",
    "\n",
    "\n",
    "sns.barplot(month_mean.index, month_mean.Amount_USD, alpha=0.8)\n",
    "plt.xticks()\n"
   ]
  },
  {
   "cell_type": "code",
   "execution_count": 25,
   "metadata": {
    "_uuid": "3938d96ddaedfac65759d2e999ff63e435ddd74d"
   },
   "outputs": [
    {
     "data": {
      "image/png": "[encoded data removed]",
      "text/plain": [
       "<Figure size 1080x432 with 1 Axes>"
      ]
     },
     "metadata": {
      "needs_background": "light"
     },
     "output_type": "display_data"
    }
   ],
   "source": [
    "count = df['CityLocation'].value_counts()\n",
    "plt.figure(figsize=(15,6))\n",
    "sns.barplot(count.index, count.values, alpha=0.9)\n",
    "plt.xticks(rotation='vertical')\n",
    "plt.xlabel('Investment Location', fontsize=25)\n",
    "plt.ylabel('Number of fundings made', fontsize=25)\n",
    "plt.title(\"Type of Investment made\", fontsize=30)\n",
    "plt.show()"
   ]
  },
  {
   "cell_type": "code",
   "execution_count": 26,
   "metadata": {
    "_uuid": "340cc72ff5c30336e4808d861b969a4df1623308"
   },
   "outputs": [
    {
     "data": {
      "image/png": "[encoded data removed]",
      "text/plain": [
       "<Figure size 1800x720 with 1 Axes>"
      ]
     },
     "metadata": {
      "needs_background": "light"
     },
     "output_type": "display_data"
    }
   ],
   "source": [
    "month_mean = df.groupby(['month']).sum().groupby(level=0).mean().reset_index()\n",
    "plt.scatter(month_mean.index,month_mean.Amount_USD)\n",
    "plt.show()"
   ]
  },
  {
   "cell_type": "code",
   "execution_count": 27,
   "metadata": {
    "_uuid": "06910b64df64a5324fa1eb0b9e5a6b52d2fcd77a"
   },
   "outputs": [],
   "source": [
    "df= df.drop('Date',axis = 1)"
   ]
  },
  {
   "cell_type": "code",
   "execution_count": 28,
   "metadata": {},
   "outputs": [],
   "source": [
    "from sklearn.ensemble import RandomForestRegressor"
   ]
  },
  {
   "cell_type": "code",
   "execution_count": 29,
   "metadata": {},
   "outputs": [],
   "source": [
    "from sklearn.ensemble import GradientBoostingRegressor"
   ]
  },
  {
   "cell_type": "code",
   "execution_count": 30,
   "metadata": {},
   "outputs": [],
   "source": [
    "from sklearn.linear_model import LinearRegression"
   ]
  },
  {
   "cell_type": "code",
   "execution_count": 31,
   "metadata": {},
   "outputs": [],
   "source": [
    "from sklearn.model_selection import train_test_split"
   ]
  },
  {
   "cell_type": "code",
   "execution_count": 32,
   "metadata": {
    "_uuid": "a389344be75a2e3061717754f5a7e67d71d8ceb0"
   },
   "outputs": [
    {
     "data": {
      "text/html": [
       "<div>\n",
       "<style scoped>\n",
       "    .dataframe tbody tr th:only-of-type {\n",
       "        vertical-align: middle;\n",
       "    }\n",
       "\n",
       "    .dataframe tbody tr th {\n",
       "        vertical-align: top;\n",
       "    }\n",
       "\n",
       "    .dataframe thead th {\n",
       "        text-align: right;\n",
       "    }\n",
       "</style>\n",
       "<table border=\"1\" class=\"dataframe\">\n",
       "  <thead>\n",
       "    <tr style=\"text-align: right;\">\n",
       "      <th></th>\n",
       "      <th>StartupName</th>\n",
       "      <th>IndustryVertical</th>\n",
       "      <th>CityLocation</th>\n",
       "      <th>InvestorsName</th>\n",
       "      <th>InvestmentType</th>\n",
       "      <th>month</th>\n",
       "      <th>Amount_USD</th>\n",
       "    </tr>\n",
       "  </thead>\n",
       "  <tbody>\n",
       "    <tr>\n",
       "      <th>0</th>\n",
       "      <td>TouchKin</td>\n",
       "      <td>Technology</td>\n",
       "      <td>Bangalore</td>\n",
       "      <td>Kae Capital</td>\n",
       "      <td>Private Equity</td>\n",
       "      <td>8</td>\n",
       "      <td>1300000</td>\n",
       "    </tr>\n",
       "    <tr>\n",
       "      <th>1</th>\n",
       "      <td>Zepo</td>\n",
       "      <td>Consumer Internet</td>\n",
       "      <td>Mumbai</td>\n",
       "      <td>Kunal Shah, LetsVenture, Anupam Mittal, Hetal ...</td>\n",
       "      <td>Seed Funding</td>\n",
       "      <td>8</td>\n",
       "      <td>500000</td>\n",
       "    </tr>\n",
       "    <tr>\n",
       "      <th>2</th>\n",
       "      <td>Click2Clinic</td>\n",
       "      <td>Consumer Internet</td>\n",
       "      <td>Hyderabad</td>\n",
       "      <td>Narottam Thudi, Shireesh Palle</td>\n",
       "      <td>Seed Funding</td>\n",
       "      <td>8</td>\n",
       "      <td>850000</td>\n",
       "    </tr>\n",
       "    <tr>\n",
       "      <th>3</th>\n",
       "      <td>Billion Loans</td>\n",
       "      <td>Consumer Internet</td>\n",
       "      <td>Bangalore</td>\n",
       "      <td>Reliance Corporate Advisory Services Ltd</td>\n",
       "      <td>Seed Funding</td>\n",
       "      <td>7</td>\n",
       "      <td>1000000</td>\n",
       "    </tr>\n",
       "    <tr>\n",
       "      <th>4</th>\n",
       "      <td>Ecolibriumenergy</td>\n",
       "      <td>Technology</td>\n",
       "      <td>Ahmedabad</td>\n",
       "      <td>Infuse Ventures, JLL</td>\n",
       "      <td>Private Equity</td>\n",
       "      <td>7</td>\n",
       "      <td>2600000</td>\n",
       "    </tr>\n",
       "  </tbody>\n",
       "</table>\n",
       "</div>"
      ],
      "text/plain": [
       "        StartupName   IndustryVertical CityLocation  \\\n",
       "0          TouchKin         Technology    Bangalore   \n",
       "1              Zepo  Consumer Internet       Mumbai   \n",
       "2      Click2Clinic  Consumer Internet    Hyderabad   \n",
       "3     Billion Loans  Consumer Internet    Bangalore   \n",
       "4  Ecolibriumenergy         Technology    Ahmedabad   \n",
       "\n",
       "                                       InvestorsName  InvestmentType month  \\\n",
       "0                                        Kae Capital  Private Equity     8   \n",
       "1  Kunal Shah, LetsVenture, Anupam Mittal, Hetal ...    Seed Funding     8   \n",
       "2                     Narottam Thudi, Shireesh Palle    Seed Funding     8   \n",
       "3           Reliance Corporate Advisory Services Ltd    Seed Funding     7   \n",
       "4                               Infuse Ventures, JLL  Private Equity     7   \n",
       "\n",
       "   Amount_USD  \n",
       "0     1300000  \n",
       "1      500000  \n",
       "2      850000  \n",
       "3     1000000  \n",
       "4     2600000  "
      ]
     },
     "execution_count": 32,
     "metadata": {},
     "output_type": "execute_result"
    }
   ],
   "source": [
    "df.head()\n"
   ]
  },
  {
   "cell_type": "code",
   "execution_count": 33,
   "metadata": {
    "_uuid": "75af8c8dfdd599ad861027bb2026f692222a8ac8"
   },
   "outputs": [],
   "source": [
    "train,test= train_test_split(df,test_size=0.2,random_state =10)\n",
    "train_x = train.drop(['Amount_USD'],axis = 1)\n",
    "train_y = train['Amount_USD']\n",
    "test_x = test.drop(['Amount_USD'],axis = 1)\n",
    "test_y = test['Amount_USD']\n",
    "#print(train_y)\n"
   ]
  },
  {
   "cell_type": "code",
   "execution_count": 34,
   "metadata": {
    "_uuid": "84b1ba3dcf2b33587d7041158d19f9c9d509e7c6"
   },
   "outputs": [
    {
     "data": {
      "text/plain": [
       "LabelEncoder()"
      ]
     },
     "execution_count": 34,
     "metadata": {},
     "output_type": "execute_result"
    }
   ],
   "source": [
    "from sklearn.preprocessing import LabelEncoder\n",
    "le1, le2, le3, le4, le5,le6 = LabelEncoder(), LabelEncoder(), LabelEncoder(), LabelEncoder(), LabelEncoder(), LabelEncoder() \n",
    "le1.fit(df.InvestmentType)\n",
    "le2.fit(df.InvestorsName)\n",
    "le3.fit(df.IndustryVertical)\n",
    "le4.fit(df.StartupName)\n",
    "le5.fit(df.CityLocation)\n",
    "le6.fit(df.month)\n"
   ]
  },
  {
   "cell_type": "code",
   "execution_count": 35,
   "metadata": {
    "_uuid": "0e2d593ec821471d68e902a3d2176fe735887f09"
   },
   "outputs": [
    {
     "data": {
      "text/html": [
       "<div>\n",
       "<style scoped>\n",
       "    .dataframe tbody tr th:only-of-type {\n",
       "        vertical-align: middle;\n",
       "    }\n",
       "\n",
       "    .dataframe tbody tr th {\n",
       "        vertical-align: top;\n",
       "    }\n",
       "\n",
       "    .dataframe thead th {\n",
       "        text-align: right;\n",
       "    }\n",
       "</style>\n",
       "<table border=\"1\" class=\"dataframe\">\n",
       "  <thead>\n",
       "    <tr style=\"text-align: right;\">\n",
       "      <th></th>\n",
       "      <th>InvestmentType</th>\n",
       "      <th>InvestorsName</th>\n",
       "      <th>IndustryVertical</th>\n",
       "      <th>StartupName</th>\n",
       "      <th>CityLocation</th>\n",
       "      <th>month</th>\n",
       "    </tr>\n",
       "  </thead>\n",
       "  <tbody>\n",
       "    <tr>\n",
       "      <th>0</th>\n",
       "      <td>1</td>\n",
       "      <td>452</td>\n",
       "      <td>490</td>\n",
       "      <td>635</td>\n",
       "      <td>36</td>\n",
       "      <td>9</td>\n",
       "    </tr>\n",
       "    <tr>\n",
       "      <th>1</th>\n",
       "      <td>2</td>\n",
       "      <td>359</td>\n",
       "      <td>63</td>\n",
       "      <td>1207</td>\n",
       "      <td>33</td>\n",
       "      <td>8</td>\n",
       "    </tr>\n",
       "    <tr>\n",
       "      <th>2</th>\n",
       "      <td>1</td>\n",
       "      <td>1067</td>\n",
       "      <td>454</td>\n",
       "      <td>1110</td>\n",
       "      <td>1</td>\n",
       "      <td>3</td>\n",
       "    </tr>\n",
       "    <tr>\n",
       "      <th>3</th>\n",
       "      <td>1</td>\n",
       "      <td>419</td>\n",
       "      <td>454</td>\n",
       "      <td>486</td>\n",
       "      <td>33</td>\n",
       "      <td>6</td>\n",
       "    </tr>\n",
       "    <tr>\n",
       "      <th>4</th>\n",
       "      <td>1</td>\n",
       "      <td>226</td>\n",
       "      <td>172</td>\n",
       "      <td>1049</td>\n",
       "      <td>33</td>\n",
       "      <td>8</td>\n",
       "    </tr>\n",
       "  </tbody>\n",
       "</table>\n",
       "</div>"
      ],
      "text/plain": [
       "   InvestmentType  InvestorsName  IndustryVertical  StartupName  CityLocation  \\\n",
       "0               1            452               490          635            36   \n",
       "1               2            359                63         1207            33   \n",
       "2               1           1067               454         1110             1   \n",
       "3               1            419               454          486            33   \n",
       "4               1            226               172         1049            33   \n",
       "\n",
       "   month  \n",
       "0      9  \n",
       "1      8  \n",
       "2      3  \n",
       "3      6  \n",
       "4      8  "
      ]
     },
     "execution_count": 35,
     "metadata": {},
     "output_type": "execute_result"
    }
   ],
   "source": [
    "train_df = pd.DataFrame(\n",
    "    {\n",
    "'InvestmentType': le1.transform(train_x.InvestmentType),\n",
    "'InvestorsName': le2.transform(train_x.InvestorsName),\n",
    "'IndustryVertical': le3.transform(train_x.IndustryVertical),\n",
    "'StartupName': le4.transform(train_x.StartupName),\n",
    "'CityLocation': le5.transform(train_x.CityLocation),\n",
    "'month': le6.transform(train_x.month)        \n",
    "        \n",
    "    })\n",
    "test_df=  (pd.DataFrame(\n",
    "    {\n",
    "    \n",
    "'InvestmentType': le1.transform(test_x.InvestmentType),\n",
    "'InvestorsName': le2.transform(test_x.InvestorsName),\n",
    "'IndustryVertical': le3.transform(test_x.IndustryVertical),\n",
    "'StartupName': le4.transform(test_x.StartupName),\n",
    "'CityLocation': le5.transform(test_x.CityLocation),\n",
    "'month': le6.transform(test_x.month)         \n",
    "    }))\n",
    "test_df.head()"
   ]
  },
  {
   "cell_type": "code",
   "execution_count": 36,
   "metadata": {
    "_uuid": "68e27f1cfbb68d20dc21251a5250c828916b8d64"
   },
   "outputs": [
    {
     "data": {
      "text/plain": [
       "GradientBoostingRegressor(alpha=0.9, criterion='friedman_mse', init=None,\n",
       "             learning_rate=0.1, loss='ls', max_depth=11, max_features=3,\n",
       "             max_leaf_nodes=None, min_impurity_decrease=0.0,\n",
       "             min_impurity_split=None, min_samples_leaf=20,\n",
       "             min_samples_split=100, min_weight_fraction_leaf=0.0,\n",
       "             n_estimators=40, n_iter_no_change=None, presort='auto',\n",
       "             random_state=43, subsample=1.0, tol=0.0001,\n",
       "             validation_fraction=0.1, verbose=0, warm_start=False)"
      ]
     },
     "execution_count": 36,
     "metadata": {},
     "output_type": "execute_result"
    }
   ],
   "source": [
    "clf = GradientBoostingRegressor(learning_rate =0.1,max_depth = 11,min_samples_split =100,min_samples_leaf =20,n_estimators =40,\n",
    "                               max_features =3,random_state =43)\n",
    "clf.fit(train_df,train_y)\n"
   ]
  },
  {
   "cell_type": "code",
   "execution_count": 37,
   "metadata": {
    "_uuid": "c96e631e1380bed0e017d4440e2c6eca15893a49"
   },
   "outputs": [
    {
     "data": {
      "text/plain": [
       "86516340.75811395"
      ]
     },
     "execution_count": 37,
     "metadata": {},
     "output_type": "execute_result"
    }
   ],
   "source": [
    "\n",
    "from sklearn.metrics import mean_squared_error\n",
    "pred = clf.predict(test_df)\n",
    "RMSE= np.sqrt(mean_squared_error(test_y,pred))\n",
    "RMSE "
   ]
  },
  {
   "cell_type": "code",
   "execution_count": 38,
   "metadata": {
    "_uuid": "eb513a05eaaabe1e0792edbfe325ab4ebef67441"
   },
   "outputs": [
    {
     "data": {
      "text/plain": [
       "RandomForestRegressor(bootstrap=True, criterion='mse', max_depth=6,\n",
       "           max_features=3, max_leaf_nodes=None, min_impurity_decrease=0.0,\n",
       "           min_impurity_split=None, min_samples_leaf=5,\n",
       "           min_samples_split=50, min_weight_fraction_leaf=0.0,\n",
       "           n_estimators=30, n_jobs=None, oob_score=False,\n",
       "           random_state=None, verbose=0, warm_start=False)"
      ]
     },
     "execution_count": 38,
     "metadata": {},
     "output_type": "execute_result"
    }
   ],
   "source": [
    "clf1 = RandomForestRegressor(max_features =3,n_estimators = 30,min_samples_leaf =5 ,min_samples_split =50 ,max_depth = 6)\n",
    "clf1.fit(train_df,train_y)\n"
   ]
  },
  {
   "cell_type": "code",
   "execution_count": 39,
   "metadata": {
    "_uuid": "b0ea3b439000244e25c6b0309cc9e2e833dec488"
   },
   "outputs": [
    {
     "data": {
      "text/plain": [
       "86804634.37342834"
      ]
     },
     "execution_count": 39,
     "metadata": {},
     "output_type": "execute_result"
    }
   ],
   "source": [
    "pred = clf1.predict(test_df)\n",
    "RMSE = np.sqrt(mean_squared_error(test_y,pred))\n",
    "RMSE "
   ]
  },
  {
   "cell_type": "code",
   "execution_count": 41,
   "metadata": {
    "_uuid": "c4665f8e36f863593b2368eb984cd15a881541ad"
   },
   "outputs": [
    {
     "data": {
      "text/plain": [
       "LinearRegression(copy_X=True, fit_intercept=True, n_jobs=None,\n",
       "         normalize=False)"
      ]
     },
     "execution_count": 41,
     "metadata": {},
     "output_type": "execute_result"
    }
   ],
   "source": [
    "from sklearn.linear_model import LinearRegression\n",
    "from sklearn.linear_model import SGDRegressor\n",
    "clf2 = LinearRegression()\n",
    "clf2.fit(train_df,train_y)"
   ]
  },
  {
   "cell_type": "code",
   "execution_count": 42,
   "metadata": {
    "_uuid": "f483981f1454b87a4c84bccff86828beaa1a40d5"
   },
   "outputs": [
    {
     "data": {
      "text/plain": [
       "87116462.18291083"
      ]
     },
     "execution_count": 42,
     "metadata": {},
     "output_type": "execute_result"
    }
   ],
   "source": [
    "pred = clf2.predict(test_df)\n",
    "RMSE = np.sqrt(mean_squared_error(test_y,pred))\n",
    "RMSE "
   ]
  },
  {
   "cell_type": "code",
   "execution_count": 43,
   "metadata": {
    "_uuid": "4b7d35971fa6e9f99e04547886e8a0e08508cd79"
   },
   "outputs": [
    {
     "name": "stderr",
     "output_type": "stream",
     "text": [
      "C:\\Users\\Pavan\\Anaconda3\\lib\\site-packages\\sklearn\\linear_model\\stochastic_gradient.py:166: FutureWarning: max_iter and tol parameters have been added in SGDRegressor in 0.19. If both are left unset, they default to max_iter=5 and tol=None. If tol is not None, max_iter defaults to max_iter=1000. From 0.21, default max_iter will be 1000, and default tol will be 1e-3.\n",
      "  FutureWarning)\n"
     ]
    },
    {
     "data": {
      "text/plain": [
       "SGDRegressor(alpha=0.0001, average=False, early_stopping=False, epsilon=0.1,\n",
       "       eta0=0.01, fit_intercept=True, l1_ratio=0.15,\n",
       "       learning_rate='invscaling', loss='squared_loss', max_iter=None,\n",
       "       n_iter=None, n_iter_no_change=5, penalty='l2', power_t=0.25,\n",
       "       random_state=None, shuffle=True, tol=None, validation_fraction=0.1,\n",
       "       verbose=0, warm_start=False)"
      ]
     },
     "execution_count": 43,
     "metadata": {},
     "output_type": "execute_result"
    }
   ],
   "source": [
    "train_scale =normalize(train_df)\n",
    "test_scale = normalize(test_df)\n",
    "optimizer = SGDRegressor()\n",
    "optimizer.fit(train_scale,train_y)\n"
   ]
  },
  {
   "cell_type": "code",
   "execution_count": 44,
   "metadata": {
    "_uuid": "63630fb45b346089ee5de0a6eb523faaafaa5949"
   },
   "outputs": [
    {
     "data": {
      "text/plain": [
       "87632883.78784902"
      ]
     },
     "execution_count": 44,
     "metadata": {},
     "output_type": "execute_result"
    }
   ],
   "source": [
    "pred = optimizer.predict(test_scale)\n",
    "optimizer.score(test_scale,test_y)\n",
    "RMSE = np.sqrt(mean_squared_error(test_y,pred))\n",
    "RMSE "
   ]
  },
  {
   "cell_type": "code",
   "execution_count": null,
   "metadata": {
    "_uuid": "6f6f3c68e640c48fdadc5c4476b22f8027c9986f"
   },
   "outputs": [],
   "source": []
  },
  {
   "cell_type": "code",
   "execution_count": null,
   "metadata": {
    "_uuid": "fea7f45bd8281b24d6263cdf5c980aa041a95f49"
   },
   "outputs": [],
   "source": []
  }
 ],
 "metadata": {
  "kernelspec": {
   "display_name": "Python 3",
   "language": "python",
   "name": "python3"
  },
  "language_info": {
   "codemirror_mode": {
    "name": "ipython",
    "version": 3
   },
   "file_extension": ".py",
   "mimetype": "text/x-python",
   "name": "python",
   "nbconvert_exporter": "python",
   "pygments_lexer": "ipython3",
   "version": "3.7.1"
  }
 },
 "nbformat": 4,
 "nbformat_minor": 1
}
